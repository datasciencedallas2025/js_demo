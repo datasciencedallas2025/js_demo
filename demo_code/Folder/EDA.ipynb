{
 "cells": [
  {
   "cell_type": "code",
   "execution_count": 1,
   "id": "fed7e696-a34d-44b0-a37a-58e63f5eee15",
   "metadata": {},
   "outputs": [],
   "source": [
    "import pandas as pd"
   ]
  },
  {
   "cell_type": "code",
   "execution_count": 2,
   "id": "093e4aab-9057-47a6-8483-420e875a50ea",
   "metadata": {},
   "outputs": [
    {
     "data": {
      "text/html": [
       "<div>\n",
       "<style scoped>\n",
       "    .dataframe tbody tr th:only-of-type {\n",
       "        vertical-align: middle;\n",
       "    }\n",
       "\n",
       "    .dataframe tbody tr th {\n",
       "        vertical-align: top;\n",
       "    }\n",
       "\n",
       "    .dataframe thead th {\n",
       "        text-align: right;\n",
       "    }\n",
       "</style>\n",
       "<table border=\"1\" class=\"dataframe\">\n",
       "  <thead>\n",
       "    <tr style=\"text-align: right;\">\n",
       "      <th></th>\n",
       "      <th>date</th>\n",
       "      <th>1. open</th>\n",
       "      <th>2. high</th>\n",
       "      <th>3. low</th>\n",
       "      <th>4. close</th>\n",
       "      <th>5. volume</th>\n",
       "    </tr>\n",
       "  </thead>\n",
       "  <tbody>\n",
       "    <tr>\n",
       "      <th>0</th>\n",
       "      <td>2025-05-28</td>\n",
       "      <td>173.160</td>\n",
       "      <td>175.265</td>\n",
       "      <td>171.9107</td>\n",
       "      <td>172.360</td>\n",
       "      <td>34284926.0</td>\n",
       "    </tr>\n",
       "    <tr>\n",
       "      <th>1</th>\n",
       "      <td>2025-05-27</td>\n",
       "      <td>170.160</td>\n",
       "      <td>173.170</td>\n",
       "      <td>170.0000</td>\n",
       "      <td>172.900</td>\n",
       "      <td>37995670.0</td>\n",
       "    </tr>\n",
       "    <tr>\n",
       "      <th>2</th>\n",
       "      <td>2025-05-23</td>\n",
       "      <td>169.055</td>\n",
       "      <td>169.960</td>\n",
       "      <td>167.8900</td>\n",
       "      <td>168.470</td>\n",
       "      <td>35211439.0</td>\n",
       "    </tr>\n",
       "    <tr>\n",
       "      <th>3</th>\n",
       "      <td>2025-05-22</td>\n",
       "      <td>171.850</td>\n",
       "      <td>176.770</td>\n",
       "      <td>170.7100</td>\n",
       "      <td>170.870</td>\n",
       "      <td>74864418.0</td>\n",
       "    </tr>\n",
       "    <tr>\n",
       "      <th>4</th>\n",
       "      <td>2025-05-21</td>\n",
       "      <td>163.690</td>\n",
       "      <td>173.140</td>\n",
       "      <td>163.5600</td>\n",
       "      <td>168.560</td>\n",
       "      <td>73415956.0</td>\n",
       "    </tr>\n",
       "    <tr>\n",
       "      <th>...</th>\n",
       "      <td>...</td>\n",
       "      <td>...</td>\n",
       "      <td>...</td>\n",
       "      <td>...</td>\n",
       "      <td>...</td>\n",
       "      <td>...</td>\n",
       "    </tr>\n",
       "    <tr>\n",
       "      <th>5222</th>\n",
       "      <td>2004-08-25</td>\n",
       "      <td>104.760</td>\n",
       "      <td>108.000</td>\n",
       "      <td>103.8800</td>\n",
       "      <td>106.000</td>\n",
       "      <td>9188600.0</td>\n",
       "    </tr>\n",
       "    <tr>\n",
       "      <th>5223</th>\n",
       "      <td>2004-08-24</td>\n",
       "      <td>111.240</td>\n",
       "      <td>111.600</td>\n",
       "      <td>103.5700</td>\n",
       "      <td>104.870</td>\n",
       "      <td>15247300.0</td>\n",
       "    </tr>\n",
       "    <tr>\n",
       "      <th>5224</th>\n",
       "      <td>2004-08-23</td>\n",
       "      <td>110.760</td>\n",
       "      <td>113.480</td>\n",
       "      <td>109.0500</td>\n",
       "      <td>109.400</td>\n",
       "      <td>18256100.0</td>\n",
       "    </tr>\n",
       "    <tr>\n",
       "      <th>5225</th>\n",
       "      <td>2004-08-20</td>\n",
       "      <td>101.010</td>\n",
       "      <td>109.080</td>\n",
       "      <td>100.5000</td>\n",
       "      <td>108.310</td>\n",
       "      <td>22834300.0</td>\n",
       "    </tr>\n",
       "    <tr>\n",
       "      <th>5226</th>\n",
       "      <td>2004-08-19</td>\n",
       "      <td>100.010</td>\n",
       "      <td>104.060</td>\n",
       "      <td>95.9600</td>\n",
       "      <td>100.335</td>\n",
       "      <td>44659000.0</td>\n",
       "    </tr>\n",
       "  </tbody>\n",
       "</table>\n",
       "<p>5227 rows × 6 columns</p>\n",
       "</div>"
      ],
      "text/plain": [
       "            date  1. open  2. high    3. low  4. close   5. volume\n",
       "0     2025-05-28  173.160  175.265  171.9107   172.360  34284926.0\n",
       "1     2025-05-27  170.160  173.170  170.0000   172.900  37995670.0\n",
       "2     2025-05-23  169.055  169.960  167.8900   168.470  35211439.0\n",
       "3     2025-05-22  171.850  176.770  170.7100   170.870  74864418.0\n",
       "4     2025-05-21  163.690  173.140  163.5600   168.560  73415956.0\n",
       "...          ...      ...      ...       ...       ...         ...\n",
       "5222  2004-08-25  104.760  108.000  103.8800   106.000   9188600.0\n",
       "5223  2004-08-24  111.240  111.600  103.5700   104.870  15247300.0\n",
       "5224  2004-08-23  110.760  113.480  109.0500   109.400  18256100.0\n",
       "5225  2004-08-20  101.010  109.080  100.5000   108.310  22834300.0\n",
       "5226  2004-08-19  100.010  104.060   95.9600   100.335  44659000.0\n",
       "\n",
       "[5227 rows x 6 columns]"
      ]
     },
     "execution_count": 2,
     "metadata": {},
     "output_type": "execute_result"
    }
   ],
   "source": [
    "df = pd.read_csv(\"googl_daily_prices.csv\")\n",
    "df"
   ]
  },
  {
   "cell_type": "code",
   "execution_count": 3,
   "id": "be72009d-54d8-44bb-a4b9-cfe1d1eabd4f",
   "metadata": {},
   "outputs": [
    {
     "name": "stdout",
     "output_type": "stream",
     "text": [
      "<class 'pandas.core.frame.DataFrame'>\n",
      "RangeIndex: 5227 entries, 0 to 5226\n",
      "Data columns (total 6 columns):\n",
      " #   Column     Non-Null Count  Dtype  \n",
      "---  ------     --------------  -----  \n",
      " 0   date       5227 non-null   object \n",
      " 1   1. open    5227 non-null   float64\n",
      " 2   2. high    5227 non-null   float64\n",
      " 3   3. low     5227 non-null   float64\n",
      " 4   4. close   5227 non-null   float64\n",
      " 5   5. volume  5227 non-null   float64\n",
      "dtypes: float64(5), object(1)\n",
      "memory usage: 245.1+ KB\n"
     ]
    }
   ],
   "source": [
    "df.info()"
   ]
  },
  {
   "cell_type": "code",
   "execution_count": 4,
   "id": "935386d0-b8e0-4aeb-b276-2f983159c636",
   "metadata": {},
   "outputs": [
    {
     "data": {
      "text/plain": [
       "Index(['date', '1. open', '2. high', '3. low', '4. close', '5. volume'], dtype='object')"
      ]
     },
     "execution_count": 4,
     "metadata": {},
     "output_type": "execute_result"
    }
   ],
   "source": [
    "df.columns"
   ]
  },
  {
   "cell_type": "code",
   "execution_count": 5,
   "id": "c0585ad5-6491-435c-908a-a2ba423c69bc",
   "metadata": {},
   "outputs": [],
   "source": [
    "df.rename(columns = {\"1. open\": \"open\", \"2. high\": \"high\", \"3. low\": \"low\", \"4. close\": \"close\", \"5. volume\": \"volume\"}, inplace = True)"
   ]
  },
  {
   "cell_type": "code",
   "execution_count": 6,
   "id": "e7fcf62a-f43b-4feb-aeb0-36f19923ef08",
   "metadata": {},
   "outputs": [
    {
     "data": {
      "text/html": [
       "<div>\n",
       "<style scoped>\n",
       "    .dataframe tbody tr th:only-of-type {\n",
       "        vertical-align: middle;\n",
       "    }\n",
       "\n",
       "    .dataframe tbody tr th {\n",
       "        vertical-align: top;\n",
       "    }\n",
       "\n",
       "    .dataframe thead th {\n",
       "        text-align: right;\n",
       "    }\n",
       "</style>\n",
       "<table border=\"1\" class=\"dataframe\">\n",
       "  <thead>\n",
       "    <tr style=\"text-align: right;\">\n",
       "      <th></th>\n",
       "      <th>date</th>\n",
       "      <th>open</th>\n",
       "      <th>high</th>\n",
       "      <th>low</th>\n",
       "      <th>close</th>\n",
       "      <th>volume</th>\n",
       "    </tr>\n",
       "  </thead>\n",
       "  <tbody>\n",
       "    <tr>\n",
       "      <th>0</th>\n",
       "      <td>2025-05-28</td>\n",
       "      <td>173.160</td>\n",
       "      <td>175.265</td>\n",
       "      <td>171.9107</td>\n",
       "      <td>172.36</td>\n",
       "      <td>34284926.0</td>\n",
       "    </tr>\n",
       "    <tr>\n",
       "      <th>1</th>\n",
       "      <td>2025-05-27</td>\n",
       "      <td>170.160</td>\n",
       "      <td>173.170</td>\n",
       "      <td>170.0000</td>\n",
       "      <td>172.90</td>\n",
       "      <td>37995670.0</td>\n",
       "    </tr>\n",
       "    <tr>\n",
       "      <th>2</th>\n",
       "      <td>2025-05-23</td>\n",
       "      <td>169.055</td>\n",
       "      <td>169.960</td>\n",
       "      <td>167.8900</td>\n",
       "      <td>168.47</td>\n",
       "      <td>35211439.0</td>\n",
       "    </tr>\n",
       "    <tr>\n",
       "      <th>3</th>\n",
       "      <td>2025-05-22</td>\n",
       "      <td>171.850</td>\n",
       "      <td>176.770</td>\n",
       "      <td>170.7100</td>\n",
       "      <td>170.87</td>\n",
       "      <td>74864418.0</td>\n",
       "    </tr>\n",
       "    <tr>\n",
       "      <th>4</th>\n",
       "      <td>2025-05-21</td>\n",
       "      <td>163.690</td>\n",
       "      <td>173.140</td>\n",
       "      <td>163.5600</td>\n",
       "      <td>168.56</td>\n",
       "      <td>73415956.0</td>\n",
       "    </tr>\n",
       "  </tbody>\n",
       "</table>\n",
       "</div>"
      ],
      "text/plain": [
       "         date     open     high       low   close      volume\n",
       "0  2025-05-28  173.160  175.265  171.9107  172.36  34284926.0\n",
       "1  2025-05-27  170.160  173.170  170.0000  172.90  37995670.0\n",
       "2  2025-05-23  169.055  169.960  167.8900  168.47  35211439.0\n",
       "3  2025-05-22  171.850  176.770  170.7100  170.87  74864418.0\n",
       "4  2025-05-21  163.690  173.140  163.5600  168.56  73415956.0"
      ]
     },
     "execution_count": 6,
     "metadata": {},
     "output_type": "execute_result"
    }
   ],
   "source": [
    "df.head()"
   ]
  },
  {
   "cell_type": "code",
   "execution_count": 7,
   "id": "a1f8442e-d91f-4898-bb8c-9290f4ea636c",
   "metadata": {},
   "outputs": [],
   "source": [
    "df.to_json(\"cleaned_data.json\", orient= \"records\", indent = 2)"
   ]
  },
  {
   "cell_type": "code",
   "execution_count": null,
   "id": "38d56ff9-dcd8-49a6-ab44-bcbfd376a05d",
   "metadata": {},
   "outputs": [],
   "source": []
  }
 ],
 "metadata": {
  "kernelspec": {
   "display_name": "Python 3 (ipykernel)",
   "language": "python",
   "name": "python3"
  },
  "language_info": {
   "codemirror_mode": {
    "name": "ipython",
    "version": 3
   },
   "file_extension": ".py",
   "mimetype": "text/x-python",
   "name": "python",
   "nbconvert_exporter": "python",
   "pygments_lexer": "ipython3",
   "version": "3.12.7"
  }
 },
 "nbformat": 4,
 "nbformat_minor": 5
}
