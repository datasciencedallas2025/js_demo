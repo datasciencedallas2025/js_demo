{
 "cells": [
  {
   "cell_type": "code",
   "execution_count": 1,
   "id": "84b8d8d2-7188-48af-a761-c0423718232c",
   "metadata": {},
   "outputs": [],
   "source": [
    "import pandas as pd"
   ]
  },
  {
   "cell_type": "code",
   "execution_count": 5,
   "id": "956d363f-eaa5-4ea3-b9ce-f46409aae569",
   "metadata": {},
   "outputs": [],
   "source": [
    "df = pd.read_csv(\"global_street_food.csv\")"
   ]
  },
  {
   "cell_type": "code",
   "execution_count": 6,
   "id": "1671371e-de57-4555-a688-fffd31caeb84",
   "metadata": {},
   "outputs": [
    {
     "name": "stdout",
     "output_type": "stream",
     "text": [
      "<class 'pandas.core.frame.DataFrame'>\n",
      "RangeIndex: 4500 entries, 0 to 4499\n",
      "Data columns (total 8 columns):\n",
      " #   Column               Non-Null Count  Dtype  \n",
      "---  ------               --------------  -----  \n",
      " 0   Dish Name            4500 non-null   object \n",
      " 1   Country              4500 non-null   object \n",
      " 2   Region/City          4500 non-null   object \n",
      " 3   Ingredients          4500 non-null   object \n",
      " 4   Description          4500 non-null   object \n",
      " 5   Cooking Method       4500 non-null   object \n",
      " 6   Typical Price (USD)  4500 non-null   float64\n",
      " 7   Vegetarian           4500 non-null   object \n",
      "dtypes: float64(1), object(7)\n",
      "memory usage: 281.4+ KB\n"
     ]
    }
   ],
   "source": [
    "df.info()"
   ]
  },
  {
   "cell_type": "code",
   "execution_count": 7,
   "id": "69f4aefb-561a-4893-8e2e-22f464777544",
   "metadata": {},
   "outputs": [
    {
     "data": {
      "text/html": [
       "<div>\n",
       "<style scoped>\n",
       "    .dataframe tbody tr th:only-of-type {\n",
       "        vertical-align: middle;\n",
       "    }\n",
       "\n",
       "    .dataframe tbody tr th {\n",
       "        vertical-align: top;\n",
       "    }\n",
       "\n",
       "    .dataframe thead th {\n",
       "        text-align: right;\n",
       "    }\n",
       "</style>\n",
       "<table border=\"1\" class=\"dataframe\">\n",
       "  <thead>\n",
       "    <tr style=\"text-align: right;\">\n",
       "      <th></th>\n",
       "      <th>Typical Price (USD)</th>\n",
       "    </tr>\n",
       "  </thead>\n",
       "  <tbody>\n",
       "    <tr>\n",
       "      <th>count</th>\n",
       "      <td>4500.000000</td>\n",
       "    </tr>\n",
       "    <tr>\n",
       "      <th>mean</th>\n",
       "      <td>2.657429</td>\n",
       "    </tr>\n",
       "    <tr>\n",
       "      <th>std</th>\n",
       "      <td>1.358311</td>\n",
       "    </tr>\n",
       "    <tr>\n",
       "      <th>min</th>\n",
       "      <td>0.200000</td>\n",
       "    </tr>\n",
       "    <tr>\n",
       "      <th>25%</th>\n",
       "      <td>1.560000</td>\n",
       "    </tr>\n",
       "    <tr>\n",
       "      <th>50%</th>\n",
       "      <td>2.660000</td>\n",
       "    </tr>\n",
       "    <tr>\n",
       "      <th>75%</th>\n",
       "      <td>3.830000</td>\n",
       "    </tr>\n",
       "    <tr>\n",
       "      <th>max</th>\n",
       "      <td>5.000000</td>\n",
       "    </tr>\n",
       "  </tbody>\n",
       "</table>\n",
       "</div>"
      ],
      "text/plain": [
       "       Typical Price (USD)\n",
       "count          4500.000000\n",
       "mean              2.657429\n",
       "std               1.358311\n",
       "min               0.200000\n",
       "25%               1.560000\n",
       "50%               2.660000\n",
       "75%               3.830000\n",
       "max               5.000000"
      ]
     },
     "execution_count": 7,
     "metadata": {},
     "output_type": "execute_result"
    }
   ],
   "source": [
    "df.describe()"
   ]
  },
  {
   "cell_type": "code",
   "execution_count": 9,
   "id": "87998598-6cef-49a8-922c-ed9202090c44",
   "metadata": {},
   "outputs": [
    {
     "data": {
      "text/plain": [
       "Index(['Dish Name', 'Country', 'Region/City', 'Ingredients', 'Description',\n",
       "       'Cooking Method', 'Typical Price (USD)', 'Vegetarian'],\n",
       "      dtype='object')"
      ]
     },
     "execution_count": 9,
     "metadata": {},
     "output_type": "execute_result"
    }
   ],
   "source": [
    "df.columns"
   ]
  },
  {
   "cell_type": "code",
   "execution_count": 10,
   "id": "651fd17f-0f3c-4fed-afa2-8e1d233082ad",
   "metadata": {},
   "outputs": [],
   "source": [
    "df.rename(columns = {\"Dish Name\": \"Dish\", \"Region/City\": \"Region\", \"Cooking Method\": \"Method\", \"Typical Price (USD)\": \"Price\"}, inplace = True)"
   ]
  },
  {
   "cell_type": "code",
   "execution_count": 12,
   "id": "33f79ee6-c7b6-4f3c-91aa-a91feb5fa795",
   "metadata": {},
   "outputs": [
    {
     "data": {
      "text/html": [
       "<div>\n",
       "<style scoped>\n",
       "    .dataframe tbody tr th:only-of-type {\n",
       "        vertical-align: middle;\n",
       "    }\n",
       "\n",
       "    .dataframe tbody tr th {\n",
       "        vertical-align: top;\n",
       "    }\n",
       "\n",
       "    .dataframe thead th {\n",
       "        text-align: right;\n",
       "    }\n",
       "</style>\n",
       "<table border=\"1\" class=\"dataframe\">\n",
       "  <thead>\n",
       "    <tr style=\"text-align: right;\">\n",
       "      <th></th>\n",
       "      <th>Dish</th>\n",
       "      <th>Country</th>\n",
       "      <th>Region</th>\n",
       "      <th>Ingredients</th>\n",
       "      <th>Description</th>\n",
       "      <th>Method</th>\n",
       "      <th>Price</th>\n",
       "      <th>Vegetarian</th>\n",
       "    </tr>\n",
       "  </thead>\n",
       "  <tbody>\n",
       "    <tr>\n",
       "      <th>0</th>\n",
       "      <td>Takoyaki</td>\n",
       "      <td>Japan</td>\n",
       "      <td>Osaka</td>\n",
       "      <td>Octopus, Flour Batter, Bonito Flakes, Green On...</td>\n",
       "      <td>Crispy and hot, often served with sauces or ch...</td>\n",
       "      <td>Fried</td>\n",
       "      <td>3.28</td>\n",
       "      <td>No</td>\n",
       "    </tr>\n",
       "    <tr>\n",
       "      <th>1</th>\n",
       "      <td>Vada Pav</td>\n",
       "      <td>India</td>\n",
       "      <td>Mumbai</td>\n",
       "      <td>Potato, Spices, Bread Bun, Chutney</td>\n",
       "      <td>Crispy and hot, often served with sauces or ch...</td>\n",
       "      <td>Fried</td>\n",
       "      <td>2.37</td>\n",
       "      <td>Yes</td>\n",
       "    </tr>\n",
       "    <tr>\n",
       "      <th>2</th>\n",
       "      <td>Funnel Cake</td>\n",
       "      <td>USA</td>\n",
       "      <td>Texas</td>\n",
       "      <td>Batter, Sugar, Oil</td>\n",
       "      <td>Crispy and hot, often served with sauces or ch...</td>\n",
       "      <td>Fried</td>\n",
       "      <td>2.78</td>\n",
       "      <td>Yes</td>\n",
       "    </tr>\n",
       "    <tr>\n",
       "      <th>3</th>\n",
       "      <td>Kathi Roll</td>\n",
       "      <td>India</td>\n",
       "      <td>Kolkata</td>\n",
       "      <td>Flatbread, Egg, Chicken, Onions, Chutney</td>\n",
       "      <td>Charred to perfection with a smoky flavor.</td>\n",
       "      <td>Grilled</td>\n",
       "      <td>1.89</td>\n",
       "      <td>No</td>\n",
       "    </tr>\n",
       "    <tr>\n",
       "      <th>4</th>\n",
       "      <td>Pad Thai</td>\n",
       "      <td>Thailand</td>\n",
       "      <td>Bangkok</td>\n",
       "      <td>Rice Noodles, Tofu, Eggs, Peanuts, Bean Sprouts</td>\n",
       "      <td>Quickly tossed in a hot pan with bold flavors.</td>\n",
       "      <td>Stir-Fried</td>\n",
       "      <td>3.48</td>\n",
       "      <td>Yes</td>\n",
       "    </tr>\n",
       "  </tbody>\n",
       "</table>\n",
       "</div>"
      ],
      "text/plain": [
       "          Dish   Country   Region  \\\n",
       "0     Takoyaki     Japan    Osaka   \n",
       "1     Vada Pav     India   Mumbai   \n",
       "2  Funnel Cake       USA    Texas   \n",
       "3   Kathi Roll     India  Kolkata   \n",
       "4     Pad Thai  Thailand  Bangkok   \n",
       "\n",
       "                                         Ingredients  \\\n",
       "0  Octopus, Flour Batter, Bonito Flakes, Green On...   \n",
       "1                 Potato, Spices, Bread Bun, Chutney   \n",
       "2                                 Batter, Sugar, Oil   \n",
       "3           Flatbread, Egg, Chicken, Onions, Chutney   \n",
       "4    Rice Noodles, Tofu, Eggs, Peanuts, Bean Sprouts   \n",
       "\n",
       "                                         Description      Method  Price  \\\n",
       "0  Crispy and hot, often served with sauces or ch...       Fried   3.28   \n",
       "1  Crispy and hot, often served with sauces or ch...       Fried   2.37   \n",
       "2  Crispy and hot, often served with sauces or ch...       Fried   2.78   \n",
       "3         Charred to perfection with a smoky flavor.     Grilled   1.89   \n",
       "4     Quickly tossed in a hot pan with bold flavors.  Stir-Fried   3.48   \n",
       "\n",
       "  Vegetarian  \n",
       "0         No  \n",
       "1        Yes  \n",
       "2        Yes  \n",
       "3         No  \n",
       "4        Yes  "
      ]
     },
     "execution_count": 12,
     "metadata": {},
     "output_type": "execute_result"
    }
   ],
   "source": [
    "df.head()"
   ]
  },
  {
   "cell_type": "code",
   "execution_count": 13,
   "id": "2343fafe-b9f0-435a-8b95-568826d57e24",
   "metadata": {},
   "outputs": [],
   "source": [
    "df.to_json(\"cleaned_cooking.json\", orient= \"records\", indent = 2)"
   ]
  },
  {
   "cell_type": "code",
   "execution_count": null,
   "id": "9023d536-4b14-47f9-89af-b4042af700f6",
   "metadata": {},
   "outputs": [],
   "source": []
  }
 ],
 "metadata": {
  "kernelspec": {
   "display_name": "Python 3 (ipykernel)",
   "language": "python",
   "name": "python3"
  },
  "language_info": {
   "codemirror_mode": {
    "name": "ipython",
    "version": 3
   },
   "file_extension": ".py",
   "mimetype": "text/x-python",
   "name": "python",
   "nbconvert_exporter": "python",
   "pygments_lexer": "ipython3",
   "version": "3.12.7"
  }
 },
 "nbformat": 4,
 "nbformat_minor": 5
}
